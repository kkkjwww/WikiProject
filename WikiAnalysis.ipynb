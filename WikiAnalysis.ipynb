{
 "cells": [
  {
   "cell_type": "markdown",
   "id": "fd9454b8-ec94-4751-aedd-3df6b7533fc2",
   "metadata": {
    "jp-MarkdownHeadingCollapsed": true
   },
   "source": [
    "# 필요한 모듈 import"
   ]
  },
  {
   "cell_type": "code",
   "execution_count": 1,
   "id": "9c77fec4",
   "metadata": {},
   "outputs": [
    {
     "name": "stdout",
     "output_type": "stream",
     "text": [
      "pygame 2.5.2 (SDL 2.28.3, Python 3.11.5)\n",
      "Hello from the pygame community. https://www.pygame.org/contribute.html\n"
     ]
    }
   ],
   "source": [
    "import requests\n",
    "from bs4 import BeautifulSoup\n",
    "\n",
    "from openpyxl import Workbook\n",
    "\n",
    "from konlpy.tag import Okt\n",
    "from collections import Counter\n",
    "\n",
    "import pytagcloud\n",
    "\n",
    "import pandas as pd\n",
    "import matplotlib.pyplot as plt\n",
    "\n",
    "import json\n",
    "import re\n",
    "\n",
    "import os\n",
    "import holidays\n",
    "\n",
    "import random\n",
    "from IPython.display import Image"
   ]
  },
  {
   "cell_type": "markdown",
   "id": "4041535e",
   "metadata": {
    "jp-MarkdownHeadingCollapsed": true
   },
   "source": [
    "# 웹 스크래핑"
   ]
  },
  {
   "cell_type": "code",
   "execution_count": 2,
   "id": "c42240f6",
   "metadata": {},
   "outputs": [
    {
     "name": "stdout",
     "output_type": "stream",
     "text": [
      "The code below will not be executed because the file 년월별_요즘화제.xlsx already exists.\n"
     ]
    }
   ],
   "source": [
    "# '년월별_요즘화제.xlsx' 엑셀 파일이 없을 때 코드 실행\n",
    "FILE_PATH = '년월별_요즘화제.xlsx'\n",
    "\n",
    "if os.path.exists(FILE_PATH):\n",
    "    print(f\"The code below will not be executed because the file {FILE_PATH} already exists.\")    \n",
    "else:\n",
    "    # 빈 엑셀 파일 생성\n",
    "    wb = Workbook(write_only=True)\n",
    "    \n",
    "    # https://ko.wikipedia.org/wiki/%ED%8F%AC%ED%84%B8:%EC%9A%94%EC%A6%98_%ED%99%94%EC%A0%9C 2016년부터 2023년까지 '요즘화제' 데이터 스크래핑\n",
    "    for year in range(2016, 2024):\n",
    "        # 년별로 워크시트 생성\n",
    "        ws = wb.create_sheet(f'{year}년_월별_요즘화제') \n",
    "        \n",
    "        # 워크시트 헤더 추가\n",
    "        ws.append(['날짜', '내용'])\n",
    "\n",
    "        # 1월에서 12월까지\n",
    "        for month in range(1, 13):\n",
    "            # try except 구문으로 에러 이유 쉽게 잡도록 함.\n",
    "            try:\n",
    "                # 페이지 로드\n",
    "                url = f'https://ko.wikipedia.org/wiki/{year}%EB%85%84_{month}%EC%9B%94'\n",
    "                response = requests.get(url)\n",
    "                soup = BeautifulSoup(response.text, 'html.parser')\n",
    "\n",
    "                # 2016년 1, 2월 데이터는 html형식이 다르기 때문에 나머지 데이터와 다른 방식으로 스크래핑한다.\n",
    "                if year == 2016 and month in [1,2]:\n",
    "                    \n",
    "                    # 워크시트 각 행에 넣을 data 리스트 초기화\n",
    "                    data = []\n",
    "    \n",
    "                    # 날짜 데이터가 text형태로 담겨있는 span태그의 부모태그 h2 태그를 먼저 찾는다. (반환타입 리스트)\n",
    "                    h2_tags = soup.select('h2')\n",
    "    \n",
    "                    # 각 h2 태그를 순회\n",
    "                    for h2 in h2_tags:\n",
    "                        # h2 태그의 자식 태그 span.mw-headline 태그를 찾기 (날짜 데이터가 텍스트로 담겨있음)\n",
    "                        headline = h2.select_one('span.mw-headline')\n",
    "    \n",
    "                        if headline:\n",
    "                            # 날짜 텍스트 추출\n",
    "                            date_text = headline.get_text()\n",
    "\n",
    "                            # 날짜에 해당하는 뉴스 데이터를 전부 가져오기 위해 h2태그의 형제 태그를 찾는다. (뉴스 텍스트는 ul 태그의 하위 태그의 li 태그에 있다.)\n",
    "                            next_sibling = h2.find_next_sibling()\n",
    "\n",
    "                            # 뉴스 데이터가 담긴 li 태그들을 저장할 리스트\n",
    "                            li_tags = []\n",
    "                            \n",
    "                            # next_sibling이 없거나 (페이지의 마지막 뉴스에 도달한 경우) h2태그가 나오면 (날짜에 해당하는 뉴스가 더 이상 없는 경우) 반복문을 빠져나옴. \n",
    "                            while next_sibling and next_sibling.name != 'h2':\n",
    "                                \n",
    "                                # 형제 태그 중 스크래핑과 관련없는 dl 태그도 존재하기 때문에 if문으로 체킹한다.\n",
    "                                if next_sibling.name == 'ul':\n",
    "                                    # ul 태그 내의 모든 li 태그를 찾기\n",
    "                                    li_tags.extend(next_sibling.find_all('li'))\n",
    "                                # next_sibling 갱신.\n",
    "                                next_sibling = next_sibling.find_next_sibling()\n",
    "                            \n",
    "                            # li 태그들의 텍스트를 저장할 리스트 초기화\n",
    "                            li_text_list = []    \n",
    "\n",
    "                            # 앞에서 찾은 모든 li 태그들을 순회하면서 텍스트를 추출한다.\n",
    "                            for li in li_tags:\n",
    "                                li_text = li.get_text()\n",
    "                                li_text_list.append(li_text)\n",
    "                                li_text_cleaned = ' '.join(li_text_list)\n",
    "                            \n",
    "                            row = [date_text, li_text_cleaned]\n",
    "    \n",
    "                            data.append(row)\n",
    "                            \n",
    "                    # 웹에 날짜가 거꾸로 돼 있어서 row 데이터를 역순으로 엑셀에 추가\n",
    "                    for row in reversed(data):\n",
    "                        ws.append(row)\n",
    "                        #print(\"succeed\")\n",
    "                \n",
    "                # 2016년 3월 부터는 html형식이 달라지므로 아래와 같이 코딩한다.\n",
    "                else:   \n",
    "                    # td.description 안에 li 태그에 뉴스 데이터가 있다.\n",
    "                    td_tags = soup.select('td.description')\n",
    "                    \n",
    "                    # 2016년 1월, 2월에는 뉴스가 있는 날만 데이터가 있었지만 그 이후는 뉴스가 없더라도 날짜는 적혀있다.\n",
    "                    # td.description 안에 text가 없더라도 td.description은 모든 일자에 존재한다.\n",
    "                    # 결국, td.description의 인덱스와 span.summary (날짜 데이터가 담긴 태그)의 인덱스는 무조건 동일하다. 이를 이용해 날짜와 내용을 매칭한다.\n",
    "                    for date_i, td_tag in enumerate(td_tags):\n",
    "    \n",
    "                        # 날짜 데이터는 span.summary에 있다.\n",
    "                        date = soup.select('span.summary')[date_i].get_text()\n",
    "                        date_split = date.split(' ')\n",
    "                        # span.summary의 모든 text를 가져오다보다 날짜 데이터 중 필요없는 것들이 같이 추출 되어 필요한 것만 추출.\n",
    "                        date_cleaned = f'{date_split[3]} {date_split[4]} {date_split[5]} {date_split[6]}'\n",
    "                        \n",
    "                        li_tags = td_tag.select('li')\n",
    "                        if not li_tags:  # li 태그가 없는 경우 continue (뉴스 데이터가 없는 경우)\n",
    "                            continue\n",
    "    \n",
    "                        #li태그 안에 text를 반복문을 통해 추출 (리스트를 따로 만들어서 li 태그가 하나 있는 경우, 여러개인 경우 모두 만족할 수 있도록 함.)\n",
    "                        li_text_list = []\n",
    "                        for li_tag in li_tags:\n",
    "                            li_text = li_tag.get_text()\n",
    "                            li_text_list.append(li_text)\n",
    "                            li_text_cleaned = ' '.join(li_text_list)\n",
    "                            \n",
    "                        row = [date_cleaned, li_text_cleaned]\n",
    "                        ws.append(row)\n",
    "                        #print(\"succeed\")\n",
    "            \n",
    "            except Exception as e:\n",
    "                print(f\"Error occurred for {url} for reason why {e}\")\n",
    "    \n",
    "    #엑셀 파일 저장\n",
    "    wb.save('년월별_요즘화제.xlsx')\n",
    "    print(\"workbook sucessfully saved\")"
   ]
  },
  {
   "cell_type": "markdown",
   "id": "88ce4e75",
   "metadata": {
    "jp-MarkdownHeadingCollapsed": true
   },
   "source": [
    "# 2016년 데이터만 word cloud 생성해보기"
   ]
  },
  {
   "cell_type": "markdown",
   "id": "96f30060-694d-4601-be30-bb8e3c302167",
   "metadata": {
    "jp-MarkdownHeadingCollapsed": true
   },
   "source": [
    "## 파일 불러오기"
   ]
  },
  {
   "cell_type": "code",
   "execution_count": 3,
   "id": "3007af32",
   "metadata": {},
   "outputs": [],
   "source": [
    "file_path = '년월별_요즘화제.xlsx'\n",
    "df = pd.read_excel(file_path, sheet_name = '2016년_월별_요즘화제')"
   ]
  },
  {
   "cell_type": "code",
   "execution_count": 4,
   "id": "46f31775",
   "metadata": {},
   "outputs": [
    {
     "data": {
      "text/html": [
       "<div>\n",
       "<style scoped>\n",
       "    .dataframe tbody tr th:only-of-type {\n",
       "        vertical-align: middle;\n",
       "    }\n",
       "\n",
       "    .dataframe tbody tr th {\n",
       "        vertical-align: top;\n",
       "    }\n",
       "\n",
       "    .dataframe thead th {\n",
       "        text-align: right;\n",
       "    }\n",
       "</style>\n",
       "<table border=\"1\" class=\"dataframe\">\n",
       "  <thead>\n",
       "    <tr style=\"text-align: right;\">\n",
       "      <th></th>\n",
       "      <th>날짜</th>\n",
       "      <th>내용</th>\n",
       "    </tr>\n",
       "  </thead>\n",
       "  <tbody>\n",
       "    <tr>\n",
       "      <th>0</th>\n",
       "      <td>2016년 1월 1일 (금요일)</td>\n",
       "      <td>대한민국의 국회의원 선거구가 이날 0시를 기해 무효가 되었다.</td>\n",
       "    </tr>\n",
       "    <tr>\n",
       "      <th>1</th>\n",
       "      <td>2016년 1월 2일 (토요일)</td>\n",
       "      <td>사우디아라비아 정부가 시아파 지도자 님르 바크르 알님르를 비롯한 47명의 사형수를 ...</td>\n",
       "    </tr>\n",
       "    <tr>\n",
       "      <th>2</th>\n",
       "      <td>2016년 1월 3일 (일요일)</td>\n",
       "      <td>사우디아라비아가 이란과의 국교를 단절하였다. 서해안고속도로에서 안개로 인해 17중 ...</td>\n",
       "    </tr>\n",
       "    <tr>\n",
       "      <th>3</th>\n",
       "      <td>2016년 1월 6일 (수요일)</td>\n",
       "      <td>조선민주주의인민공화국이 수소폭탄 핵 실험을 전격 실시했다고 발표하였다.</td>\n",
       "    </tr>\n",
       "    <tr>\n",
       "      <th>4</th>\n",
       "      <td>2016년 1월 8일 (금요일)</td>\n",
       "      <td>존엄사를 허용하는 웰다잉법이 국회를 통과했다. 주한미군이 포천시 영평사격장에서 아파...</td>\n",
       "    </tr>\n",
       "    <tr>\n",
       "      <th>...</th>\n",
       "      <td>...</td>\n",
       "      <td>...</td>\n",
       "    </tr>\n",
       "    <tr>\n",
       "      <th>266</th>\n",
       "      <td>2016년 12월 27일 (2016-12-27) (화요일)</td>\n",
       "      <td>대한민국의 정당 중 하나인 새누리당 소속의원 29명이 탈당 및 신당(新黨) 창당을 ...</td>\n",
       "    </tr>\n",
       "    <tr>\n",
       "      <th>267</th>\n",
       "      <td>2016년 12월 28일 (2016-12-28) (수요일)</td>\n",
       "      <td>대한민국 공정거래위원회가 특허권 남용과 관련하여 퀄컴에 1조 300억 원의 과징금을...</td>\n",
       "    </tr>\n",
       "    <tr>\n",
       "      <th>268</th>\n",
       "      <td>2016년 12월 29일 (2016-12-29) (목요일)</td>\n",
       "      <td>미국에서 2016년 미국 대통령 선거 개입과 관련하여 러시아 외교관 35명을 추방하...</td>\n",
       "    </tr>\n",
       "    <tr>\n",
       "      <th>269</th>\n",
       "      <td>2016년 12월 30일 (2016-12-30) (금요일)</td>\n",
       "      <td>루마니아의 대통령 클라우스 요하니스는 사회민주당이 지명한 소린 그린데아누에 총리 권...</td>\n",
       "    </tr>\n",
       "    <tr>\n",
       "      <th>270</th>\n",
       "      <td>2016년 12월 31일 (2016-12-31) (토요일)</td>\n",
       "      <td>대한민국 전역에서 촛불 시위가 이어졌으며, 탄핵된 박근혜 대통령에 대한 헌법재판소의...</td>\n",
       "    </tr>\n",
       "  </tbody>\n",
       "</table>\n",
       "<p>271 rows × 2 columns</p>\n",
       "</div>"
      ],
      "text/plain": [
       "                                   날짜  \\\n",
       "0                   2016년 1월 1일 (금요일)   \n",
       "1                   2016년 1월 2일 (토요일)   \n",
       "2                   2016년 1월 3일 (일요일)   \n",
       "3                   2016년 1월 6일 (수요일)   \n",
       "4                   2016년 1월 8일 (금요일)   \n",
       "..                                ...   \n",
       "266  2016년 12월 27일 (2016-12-27) (화요일)   \n",
       "267  2016년 12월 28일 (2016-12-28) (수요일)   \n",
       "268  2016년 12월 29일 (2016-12-29) (목요일)   \n",
       "269  2016년 12월 30일 (2016-12-30) (금요일)   \n",
       "270  2016년 12월 31일 (2016-12-31) (토요일)   \n",
       "\n",
       "                                                    내용  \n",
       "0                   대한민국의 국회의원 선거구가 이날 0시를 기해 무효가 되었다.  \n",
       "1    사우디아라비아 정부가 시아파 지도자 님르 바크르 알님르를 비롯한 47명의 사형수를 ...  \n",
       "2    사우디아라비아가 이란과의 국교를 단절하였다. 서해안고속도로에서 안개로 인해 17중 ...  \n",
       "3              조선민주주의인민공화국이 수소폭탄 핵 실험을 전격 실시했다고 발표하였다.  \n",
       "4    존엄사를 허용하는 웰다잉법이 국회를 통과했다. 주한미군이 포천시 영평사격장에서 아파...  \n",
       "..                                                 ...  \n",
       "266  대한민국의 정당 중 하나인 새누리당 소속의원 29명이 탈당 및 신당(新黨) 창당을 ...  \n",
       "267  대한민국 공정거래위원회가 특허권 남용과 관련하여 퀄컴에 1조 300억 원의 과징금을...  \n",
       "268  미국에서 2016년 미국 대통령 선거 개입과 관련하여 러시아 외교관 35명을 추방하...  \n",
       "269  루마니아의 대통령 클라우스 요하니스는 사회민주당이 지명한 소린 그린데아누에 총리 권...  \n",
       "270  대한민국 전역에서 촛불 시위가 이어졌으며, 탄핵된 박근혜 대통령에 대한 헌법재판소의...  \n",
       "\n",
       "[271 rows x 2 columns]"
      ]
     },
     "execution_count": 4,
     "metadata": {},
     "output_type": "execute_result"
    }
   ],
   "source": [
    "df"
   ]
  },
  {
   "cell_type": "markdown",
   "id": "404cb5f5",
   "metadata": {
    "jp-MarkdownHeadingCollapsed": true
   },
   "source": [
    "## 한글만 추출"
   ]
  },
  {
   "cell_type": "code",
   "execution_count": 5,
   "id": "ecf5901a",
   "metadata": {},
   "outputs": [],
   "source": [
    "def text_cleaning(text):\n",
    "    # 한글이 아닌 텍스트 추출\n",
    "    hangul = re.compile('[^ ㄱ-ㅣ가-힣]+')\n",
    "    # 한글이 아닌 텍스트 빈문자열로 대체\n",
    "    result = hangul.sub('', text)\n",
    "\n",
    "    return result"
   ]
  },
  {
   "cell_type": "code",
   "execution_count": 6,
   "id": "1955b216",
   "metadata": {},
   "outputs": [],
   "source": [
    "df['내용'] = df['내용'].apply(lambda x: text_cleaning(x))"
   ]
  },
  {
   "cell_type": "markdown",
   "id": "1604a512",
   "metadata": {
    "jp-MarkdownHeadingCollapsed": true
   },
   "source": [
    "## corpus(말뭉치) 생성"
   ]
  },
  {
   "cell_type": "code",
   "execution_count": 7,
   "id": "d2a2410d",
   "metadata": {},
   "outputs": [
    {
     "data": {
      "text/plain": [
       "'대한민국의 국회의원 선거구가 이날 시를 기해 무효가 되었다사우디아라비아 정부가 시아파 지도자 님르 바크르 알님르를 비롯한 명의 사형수를 처형했다 중국 헤이룽장성에서 규모 의 지진이'"
      ]
     },
     "execution_count": 7,
     "metadata": {},
     "output_type": "execute_result"
    }
   ],
   "source": [
    "content_corpus = \"\".join(df['내용'].to_list())\n",
    "content_corpus[:100]"
   ]
  },
  {
   "cell_type": "markdown",
   "id": "d053290d",
   "metadata": {
    "jp-MarkdownHeadingCollapsed": true
   },
   "source": [
    "## 키워드 추출"
   ]
  },
  {
   "cell_type": "code",
   "execution_count": 8,
   "id": "3d6f8e02",
   "metadata": {},
   "outputs": [
    {
     "data": {
      "text/plain": [
       "[('명', 153), ('발생', 112), ('사망', 93), ('년', 83), ('대한민국', 77)]"
      ]
     },
     "execution_count": 8,
     "metadata": {},
     "output_type": "execute_result"
    }
   ],
   "source": [
    "# KoNLPy의 Okt 형태소 분석기 사용\n",
    "nouns_tagger = Okt()\n",
    "# 명사만 추출\n",
    "nouns = nouns_tagger.nouns(content_corpus)\n",
    "# 명사의 빈도 수 계산\n",
    "count = Counter(nouns)\n",
    "# 빈도 수 상위 5개 단어 출력\n",
    "count.most_common(5)"
   ]
  },
  {
   "cell_type": "markdown",
   "id": "776acc33",
   "metadata": {
    "jp-MarkdownHeadingCollapsed": true
   },
   "source": [
    "## 한 글자 키워드 제거하기"
   ]
  },
  {
   "cell_type": "code",
   "execution_count": 9,
   "id": "bdd3d462",
   "metadata": {},
   "outputs": [
    {
     "data": {
      "text/plain": [
       "[('발생', 112), ('사망', 93), ('대한민국', 77), ('대통령', 66), ('미국', 55)]"
      ]
     },
     "execution_count": 9,
     "metadata": {},
     "output_type": "execute_result"
    }
   ],
   "source": [
    "# 한 글자가 아닌 단어들을 딕셔너리 형태로 저장하고 그것을 Counter 객체에 다시 전달.\n",
    "cleaned_counter = Counter({x: count[x] for x in count if len(x) > 1})\n",
    "cleaned_counter.most_common(5)"
   ]
  },
  {
   "cell_type": "markdown",
   "id": "0db7a0b3",
   "metadata": {
    "jp-MarkdownHeadingCollapsed": true
   },
   "source": [
    "## 불용어 제거하기"
   ]
  },
  {
   "cell_type": "code",
   "execution_count": 10,
   "id": "3d077302",
   "metadata": {},
   "outputs": [
    {
     "data": {
      "text/plain": [
       "['아', '휴', '아이구', '아이쿠', '아이고', '어', '나', '우리', '저희', '따라']"
      ]
     },
     "execution_count": 10,
     "metadata": {},
     "output_type": "execute_result"
    }
   ],
   "source": [
    "# 불용어 목록 출처 (https://www.ranks.nl/stopwords/korean)\n",
    "STOPWORDS_FILE_PATH = 'data/stopwords.txt'\n",
    "\n",
    "with open(STOPWORDS_FILE_PATH, encoding='UTF-8') as f:\n",
    "    stopwords = f.readlines()\n",
    "    \n",
    "stopwords = [x.strip() for x in stopwords]\n",
    "stopwords[:10]"
   ]
  },
  {
   "cell_type": "code",
   "execution_count": 11,
   "id": "69eaa0e5",
   "metadata": {},
   "outputs": [
    {
     "data": {
      "text/plain": [
       "[('발생', 112), ('사망', 93), ('대한민국', 77), ('대통령', 66), ('미국', 55)]"
      ]
     },
     "execution_count": 11,
     "metadata": {},
     "output_type": "execute_result"
    }
   ],
   "source": [
    "# 불용어 제거한 딕셔너리를 Counter 객체에 다시 넘겨주기\n",
    "cleaned_counter = Counter({x: cleaned_counter[x] for x in count if x not in stopwords})\n",
    "cleaned_counter.most_common(5)"
   ]
  },
  {
   "cell_type": "markdown",
   "id": "a1d0855e-5455-4c6a-b8cb-396b2d27d1b2",
   "metadata": {
    "jp-MarkdownHeadingCollapsed": true
   },
   "source": [
    "## word cloud 생성"
   ]
  },
  {
   "cell_type": "code",
   "execution_count": 12,
   "id": "7e3a3288",
   "metadata": {},
   "outputs": [
    {
     "data": {
      "image/jpeg": "[encoded data removed]",
      "text/plain": [
       "<IPython.core.display.Image object>"
      ]
     },
     "execution_count": 12,
     "metadata": {},
     "output_type": "execute_result"
    }
   ],
   "source": [
    "# 랜덤성을 줄이기 위해 random 시드 값 지정\n",
    "random.seed(5)\n",
    "\n",
    "# 딕셔너리 형태로 색깔과 단어의 크기, 단어가 저장된 리스트 반환.\n",
    "taglist = pytagcloud.make_tags(cleaned_counter.most_common(80), maxsize=80)\n",
    "pytagcloud.create_tag_image(taglist, 'wiki_wordcloud_example.jpg', size=(900, 600), fontname='NanumBarunGothicBold', rectangular=False)\n",
    "\n",
    "Image(filename='wiki_wordcloud_example.jpg')"
   ]
  },
  {
   "cell_type": "markdown",
   "id": "c42ae3e0",
   "metadata": {
    "jp-MarkdownHeadingCollapsed": true
   },
   "source": [
    "# 년별로 wordcloud 이미지 생성"
   ]
  },
  {
   "cell_type": "code",
   "execution_count": 13,
   "id": "34ee3a19-fa95-4989-9635-66d743e9b58c",
   "metadata": {},
   "outputs": [],
   "source": [
    "# 앞서 사용한 코드 함수로 만든다.\n",
    "def make_wordcloud(df):    \n",
    "    df['내용'] = df['내용'].apply(lambda x: text_cleaning(x))\n",
    "    content_corpus = \"\".join(df['내용'].to_list())\n",
    "    \n",
    "    nouns_tagger = Okt()\n",
    "    nouns = nouns_tagger.nouns(content_corpus)\n",
    "    count = Counter(nouns)\n",
    "    \n",
    "    cleaned_counter = Counter({x: count[x] for x in count if len(x) > 1})\n",
    "    cleaned_counter = Counter({x: cleaned_counter[x] for x in cleaned_counter if x not in stopwords})\n",
    "\n",
    "    taglist = pytagcloud.make_tags(cleaned_counter.most_common(80), maxsize=70)\n",
    "    \n",
    "    return taglist\n",
    "\n",
    "def wordcloud_img_save(name, taglist):\n",
    "    file_name = f'wiki_{name}_wordcloud.jpg'\n",
    "    wc_file_path = os.path.join(image_folder, file_name)\n",
    "    \n",
    "    # 이미지 파일이 존재하지 않을 때만 생성\n",
    "    if not os.path.exists(wc_file_path):\n",
    "        pytagcloud.create_tag_image(taglist, wc_file_path, size=(900, 600), fontname='NanumBarunGothicBold', rectangular=False)"
   ]
  },
  {
   "cell_type": "code",
   "execution_count": 14,
   "id": "a1cd2404-5e8c-4f33-a9c4-e852a459f5d1",
   "metadata": {},
   "outputs": [],
   "source": [
    "# 현재 노트북 파일이 위치한 디렉토리 경로\n",
    "current_dir = os.getcwd()\n",
    "\n",
    "# 이미지를 저장할 폴더 경로\n",
    "image_folder = os.path.join(current_dir, 'image')\n",
    "\n",
    "# image 폴더가 없으면 생성\n",
    "if not os.path.exists(image_folder):\n",
    "    os.makedirs(image_folder)\n",
    "\n",
    "    for year in range(2016,2024):\n",
    "        # 2016년 데이터에서 했던 방식 그대로 반복\n",
    "        file_path = '년월별_요즘화제.xlsx'\n",
    "        df = pd.read_excel(file_path, sheet_name = f'{year}년_월별_요즘화제')\n",
    "    \n",
    "        taglist = make_wordcloud(df)\n",
    "        \n",
    "        wordcloud_img_save(year, taglist)"
   ]
  },
  {
   "cell_type": "markdown",
   "id": "61f2420b",
   "metadata": {
    "jp-MarkdownHeadingCollapsed": true
   },
   "source": [
    "# 평일, 공휴일, 2016년~2023년 word cloud 생성"
   ]
  },
  {
   "cell_type": "markdown",
   "id": "8aff1449-15ee-4c10-86c9-1e43b5a00543",
   "metadata": {
    "jp-MarkdownHeadingCollapsed": true
   },
   "source": [
    "## 전체 년도 데이터가 담긴 DataFrame 생성"
   ]
  },
  {
   "cell_type": "code",
   "execution_count": 15,
   "id": "fdfe7e01",
   "metadata": {},
   "outputs": [],
   "source": [
    "file_path = '년월별_요즘화제.xlsx'\n",
    "df = pd.read_excel(file_path, sheet_name = '2016년_월별_요즘화제')\n",
    "for year in range(2017, 2024):    \n",
    "    df_for_concat = pd.read_excel(file_path, sheet_name = f'{year}년_월별_요즘화제')\n",
    "    df = pd.concat([df, df_for_concat], ignore_index=True)  "
   ]
  },
  {
   "cell_type": "code",
   "execution_count": 16,
   "id": "b32e09ed",
   "metadata": {},
   "outputs": [
    {
     "data": {
      "text/plain": [
       "(2238, 2)"
      ]
     },
     "execution_count": 16,
     "metadata": {},
     "output_type": "execute_result"
    }
   ],
   "source": [
    "df.shape"
   ]
  },
  {
   "cell_type": "markdown",
   "id": "7a2ba1e7-1422-427d-9ea5-3d77a71a2c35",
   "metadata": {
    "jp-MarkdownHeadingCollapsed": true
   },
   "source": [
    "## 날짜열 dtype 날짜 형식으로 수정"
   ]
  },
  {
   "cell_type": "code",
   "execution_count": 17,
   "id": "634c7213",
   "metadata": {},
   "outputs": [
    {
     "name": "stdout",
     "output_type": "stream",
     "text": [
      "0    2016년 1월 1일 (금요일)\n",
      "1    2016년 1월 2일 (토요일)\n",
      "2    2016년 1월 3일 (일요일)\n",
      "3    2016년 1월 6일 (수요일)\n",
      "4    2016년 1월 8일 (금요일)\n",
      "Name: 날짜, dtype: object\n",
      "2233    2023년 12월 18일 (2023-12-18) (월요일)\n",
      "2234    2023년 12월 19일 (2023-12-19) (화요일)\n",
      "2235    2023년 12월 21일 (2023-12-21) (목요일)\n",
      "2236    2023년 12월 27일 (2023-12-27) (수요일)\n",
      "2237    2023년 12월 29일 (2023-12-29) (금요일)\n",
      "Name: 날짜, dtype: object\n"
     ]
    }
   ],
   "source": [
    "print(df['날짜'].head())\n",
    "print(df['날짜'].tail())"
   ]
  },
  {
   "cell_type": "markdown",
   "id": "b8a7c3c5-b0e8-48fb-9ac7-1f5c8d173fd1",
   "metadata": {},
   "source": [
    "### 날짜 형식 통일"
   ]
  },
  {
   "cell_type": "code",
   "execution_count": 18,
   "id": "e617d7e3",
   "metadata": {},
   "outputs": [],
   "source": [
    "def cleaned_date(x):\n",
    "    # 날짜 데이터에 괄호와 괄호 안의 내용 정규 표현식으로 찾기\n",
    "    pattern = r'\\([^)]*\\)'\n",
    "    # 괄호와 괄호 안의 내용을 삭제\n",
    "    x = re.sub(pattern, '', x)\n",
    "    \n",
    "    return x.strip()"
   ]
  },
  {
   "cell_type": "code",
   "execution_count": 19,
   "id": "39307d7b",
   "metadata": {
    "scrolled": true
   },
   "outputs": [],
   "source": [
    "df['날짜'] = df['날짜'].apply(lambda x: cleaned_date(x))"
   ]
  },
  {
   "cell_type": "code",
   "execution_count": 20,
   "id": "3c921915",
   "metadata": {},
   "outputs": [
    {
     "name": "stdout",
     "output_type": "stream",
     "text": [
      "0    2016년 1월 1일\n",
      "1    2016년 1월 2일\n",
      "2    2016년 1월 3일\n",
      "3    2016년 1월 6일\n",
      "4    2016년 1월 8일\n",
      "Name: 날짜, dtype: object\n",
      "2233    2023년 12월 18일\n",
      "2234    2023년 12월 19일\n",
      "2235    2023년 12월 21일\n",
      "2236    2023년 12월 27일\n",
      "2237    2023년 12월 29일\n",
      "Name: 날짜, dtype: object\n"
     ]
    }
   ],
   "source": [
    "print(df['날짜'].head())\n",
    "print(df['날짜'].tail())"
   ]
  },
  {
   "cell_type": "markdown",
   "id": "a1997f69-dd0b-4871-bbaa-7d92573a4f0b",
   "metadata": {},
   "source": [
    "### datetime으로 dtype 변경"
   ]
  },
  {
   "cell_type": "code",
   "execution_count": 21,
   "id": "e782b0e9",
   "metadata": {},
   "outputs": [],
   "source": [
    "df['날짜'] = pd.to_datetime(df['날짜'],format='%Y년 %m월 %d일')"
   ]
  },
  {
   "cell_type": "code",
   "execution_count": 22,
   "id": "64f3c612",
   "metadata": {},
   "outputs": [
    {
     "name": "stdout",
     "output_type": "stream",
     "text": [
      "<class 'pandas.core.series.Series'>\n",
      "RangeIndex: 2238 entries, 0 to 2237\n",
      "Series name: 날짜\n",
      "Non-Null Count  Dtype         \n",
      "--------------  -----         \n",
      "2238 non-null   datetime64[ns]\n",
      "dtypes: datetime64[ns](1)\n",
      "memory usage: 17.6 KB\n"
     ]
    }
   ],
   "source": [
    "df['날짜'].info()"
   ]
  },
  {
   "cell_type": "markdown",
   "id": "ae0f6023",
   "metadata": {
    "jp-MarkdownHeadingCollapsed": true
   },
   "source": [
    "## 공휴일인지 확인하는 열 추가"
   ]
  },
  {
   "cell_type": "code",
   "execution_count": 23,
   "id": "59bb9eda",
   "metadata": {},
   "outputs": [],
   "source": [
    "# 한국 공휴일 정보 로드\n",
    "kr_holidays = holidays.KR()\n",
    "\n",
    "def is_holiday(date):\n",
    "    if date in kr_holidays:\n",
    "        return 1\n",
    "    else:\n",
    "        return 0"
   ]
  },
  {
   "cell_type": "code",
   "execution_count": 24,
   "id": "4234a640",
   "metadata": {},
   "outputs": [],
   "source": [
    "df['공휴일여부'] = df['날짜'].apply(lambda x: is_holiday(x))"
   ]
  },
  {
   "cell_type": "code",
   "execution_count": 25,
   "id": "4b0b25d5",
   "metadata": {
    "scrolled": true
   },
   "outputs": [
    {
     "data": {
      "text/html": [
       "<div>\n",
       "<style scoped>\n",
       "    .dataframe tbody tr th:only-of-type {\n",
       "        vertical-align: middle;\n",
       "    }\n",
       "\n",
       "    .dataframe tbody tr th {\n",
       "        vertical-align: top;\n",
       "    }\n",
       "\n",
       "    .dataframe thead th {\n",
       "        text-align: right;\n",
       "    }\n",
       "</style>\n",
       "<table border=\"1\" class=\"dataframe\">\n",
       "  <thead>\n",
       "    <tr style=\"text-align: right;\">\n",
       "      <th></th>\n",
       "      <th>날짜</th>\n",
       "      <th>내용</th>\n",
       "      <th>공휴일여부</th>\n",
       "    </tr>\n",
       "  </thead>\n",
       "  <tbody>\n",
       "    <tr>\n",
       "      <th>0</th>\n",
       "      <td>2016-01-01</td>\n",
       "      <td>대한민국의 국회의원 선거구가 이날 0시를 기해 무효가 되었다.</td>\n",
       "      <td>1</td>\n",
       "    </tr>\n",
       "    <tr>\n",
       "      <th>1</th>\n",
       "      <td>2016-01-02</td>\n",
       "      <td>사우디아라비아 정부가 시아파 지도자 님르 바크르 알님르를 비롯한 47명의 사형수를 ...</td>\n",
       "      <td>0</td>\n",
       "    </tr>\n",
       "    <tr>\n",
       "      <th>2</th>\n",
       "      <td>2016-01-03</td>\n",
       "      <td>사우디아라비아가 이란과의 국교를 단절하였다. 서해안고속도로에서 안개로 인해 17중 ...</td>\n",
       "      <td>0</td>\n",
       "    </tr>\n",
       "    <tr>\n",
       "      <th>3</th>\n",
       "      <td>2016-01-06</td>\n",
       "      <td>조선민주주의인민공화국이 수소폭탄 핵 실험을 전격 실시했다고 발표하였다.</td>\n",
       "      <td>0</td>\n",
       "    </tr>\n",
       "    <tr>\n",
       "      <th>4</th>\n",
       "      <td>2016-01-08</td>\n",
       "      <td>존엄사를 허용하는 웰다잉법이 국회를 통과했다. 주한미군이 포천시 영평사격장에서 아파...</td>\n",
       "      <td>0</td>\n",
       "    </tr>\n",
       "  </tbody>\n",
       "</table>\n",
       "</div>"
      ],
      "text/plain": [
       "          날짜                                                 내용  공휴일여부\n",
       "0 2016-01-01                 대한민국의 국회의원 선거구가 이날 0시를 기해 무효가 되었다.      1\n",
       "1 2016-01-02  사우디아라비아 정부가 시아파 지도자 님르 바크르 알님르를 비롯한 47명의 사형수를 ...      0\n",
       "2 2016-01-03  사우디아라비아가 이란과의 국교를 단절하였다. 서해안고속도로에서 안개로 인해 17중 ...      0\n",
       "3 2016-01-06            조선민주주의인민공화국이 수소폭탄 핵 실험을 전격 실시했다고 발표하였다.      0\n",
       "4 2016-01-08  존엄사를 허용하는 웰다잉법이 국회를 통과했다. 주한미군이 포천시 영평사격장에서 아파...      0"
      ]
     },
     "execution_count": 25,
     "metadata": {},
     "output_type": "execute_result"
    }
   ],
   "source": [
    "df.head()"
   ]
  },
  {
   "cell_type": "markdown",
   "id": "d43b785b-1899-4f36-b6d6-50c325f8a300",
   "metadata": {
    "jp-MarkdownHeadingCollapsed": true
   },
   "source": [
    "## 각각 조건에 맞는 word cloud 이미지 저장"
   ]
  },
  {
   "cell_type": "markdown",
   "id": "6169d8b2-b9d5-4a8e-9cfb-d843c3184db7",
   "metadata": {
    "jp-MarkdownHeadingCollapsed": true
   },
   "source": [
    "### 공휴일, 평일별 word cloud 생성"
   ]
  },
  {
   "cell_type": "code",
   "execution_count": 26,
   "id": "2ace3e18",
   "metadata": {},
   "outputs": [],
   "source": [
    "holi_taglist = make_wordcloud(df.loc[df['공휴일여부'] == 1].copy())\n",
    "not_holi_taglist = make_wordcloud(df.loc[df['공휴일여부'] == 0].copy())"
   ]
  },
  {
   "cell_type": "code",
   "execution_count": 27,
   "id": "b3e506fa",
   "metadata": {},
   "outputs": [],
   "source": [
    "wordcloud_img_save('공휴일', holi_taglist)\n",
    "wordcloud_img_save('평일', not_holi_taglist)"
   ]
  },
  {
   "cell_type": "markdown",
   "id": "d3355cb7",
   "metadata": {},
   "source": [
    "### 2016 ~ 2023년 전체 wordcloud 생성"
   ]
  },
  {
   "cell_type": "code",
   "execution_count": 28,
   "id": "0f871da5",
   "metadata": {},
   "outputs": [],
   "source": [
    "total_taglist = make_wordcloud(df.copy())\n",
    "wordcloud_img_save('2016_2023_전체', total_taglist)"
   ]
  },
  {
   "cell_type": "markdown",
   "id": "5683587e",
   "metadata": {
    "jp-MarkdownHeadingCollapsed": true
   },
   "source": [
    "# 각 뉴스의 개수 계산"
   ]
  },
  {
   "cell_type": "code",
   "execution_count": 29,
   "id": "d6bbf5ce-2440-4b1c-b0aa-9e862f14ab67",
   "metadata": {},
   "outputs": [
    {
     "data": {
      "text/plain": [
       "2016    271\n",
       "2017    284\n",
       "2018    333\n",
       "2019    198\n",
       "2020    365\n",
       "2021    365\n",
       "2022    296\n",
       "2023    126\n",
       "dtype: int64"
      ]
     },
     "execution_count": 29,
     "metadata": {},
     "output_type": "execute_result"
    }
   ],
   "source": [
    "file_path = '년월별_요즘화제.xlsx'\n",
    "\n",
    "news_cnt = []\n",
    "index = []\n",
    "for year in range(2016, 2024):    \n",
    "    df = pd.read_excel(file_path, sheet_name = f'{year}년_월별_요즘화제')\n",
    "    index.append(year)\n",
    "    news_cnt.append(df.shape[0])\n",
    "news_cnt_series = pd.Series(news_cnt, index=index)\n",
    "news_cnt_series"
   ]
  },
  {
   "cell_type": "code",
   "execution_count": 30,
   "id": "dd00dcac-c4fd-48eb-b33d-cad2f2ded53a",
   "metadata": {},
   "outputs": [
    {
     "data": {
      "image/png": "[encoded data removed]",
      "text/plain": [
       "<Figure size 640x480 with 1 Axes>"
      ]
     },
     "metadata": {},
     "output_type": "display_data"
    }
   ],
   "source": [
    "plt.rc('font', family='Malgun Gothic')\n",
    "news_cnt_series.plot(kind='bar')\n",
    "plt.title('<년도별 뉴스 개수>')\n",
    "plt.ylabel('count')\n",
    "plt.show()"
   ]
  },
  {
   "cell_type": "markdown",
   "id": "0ba1ede9",
   "metadata": {
    "jp-MarkdownHeadingCollapsed": true
   },
   "source": [
    "# 한계점 파악\n",
    "- 코로나 대유행시기에 다음과 같은 텍스트가 많이 발생했을 것이다.\n",
    "- 다음과 같이 자연어를 처리하면 '진자'와 '수가'라는 단어가 많이 등장했을 것이다."
   ]
  },
  {
   "cell_type": "code",
   "execution_count": 31,
   "id": "2c2c6d24",
   "metadata": {},
   "outputs": [
    {
     "name": "stdout",
     "output_type": "stream",
     "text": [
      "한글만 추출 : 명의 확진자가 발생하였다 그 수가 어제보다 명 증가했다\n",
      "형태소 분석 결과 : Counter({'명의': 1, '확': 1, '진자': 1, '발생': 1, '그': 1, '수가': 1, '어제': 1, '명': 1, '증가': 1})\n",
      "한 글자 제거 : Counter({'명의': 1, '진자': 1, '발생': 1, '수가': 1, '어제': 1, '증가': 1})\n",
      "불용어 제거 : Counter({'명의': 1, '진자': 1, '발생': 1, '수가': 1, '어제': 1, '증가': 1})\n"
     ]
    }
   ],
   "source": [
    "corpus = \"2150명의 확진자가 발생하였다. 그 수가 어제보다 690명 증가했다.\"\n",
    "\n",
    "cleaned_corpus = text_cleaning(corpus)\n",
    "print(f\"한글만 추출 : {cleaned_corpus}\")\n",
    "\n",
    "nouns_tagger = Okt()\n",
    "nouns_of_corpus = nouns_tagger.nouns(cleaned_corpus)\n",
    "count_of_corpus = Counter(nouns_of_corpus)\n",
    "print(f\"형태소 분석 결과 : {count_of_corpus}\")\n",
    "\n",
    "cleaned_counter_of_corpus = Counter({x: count_of_corpus[x] for x in count_of_corpus if len(x) > 1})\n",
    "print(f\"한 글자 제거 : {cleaned_counter_of_corpus}\")\n",
    "\n",
    "last_cleaned_counter = Counter({x: cleaned_counter_of_corpus[x] for x in cleaned_counter_of_corpus if x not in stopwords})\n",
    "print(f\"불용어 제거 : {last_cleaned_counter}\")"
   ]
  },
  {
   "cell_type": "code",
   "execution_count": 32,
   "id": "8584bd59-578a-4313-a68d-007155e8a24f",
   "metadata": {},
   "outputs": [
    {
     "data": {
      "text/plain": [
       "Counter({'명의': 1, '발생': 1, '어제': 1, '증가': 1, '확진자': 1})"
      ]
     },
     "execution_count": 32,
     "metadata": {},
     "output_type": "execute_result"
    }
   ],
   "source": [
    "# 다음과 같이 수정해서 이미지를 저장할 수 있을 것이다.\n",
    "last_cleaned_counter['확진자'] = last_cleaned_counter.pop('진자')\n",
    "last_cleaned_counter.pop('수가')\n",
    "last_cleaned_counter"
   ]
  },
  {
   "cell_type": "code",
   "execution_count": 33,
   "id": "a7f0b404-1e99-4466-bc95-e8ac60b5eed9",
   "metadata": {},
   "outputs": [
    {
     "data": {
      "image/jpeg": "[encoded data removed]",
      "text/plain": [
       "<IPython.core.display.Image object>"
      ]
     },
     "execution_count": 33,
     "metadata": {},
     "output_type": "execute_result"
    }
   ],
   "source": [
    "# 20년도만 이미지를 나타내본다.\n",
    "file_path = '년월별_요즘화제.xlsx'\n",
    "df = pd.read_excel(file_path, sheet_name = '2020년_월별_요즘화제')\n",
    "\n",
    "df['내용'] = df['내용'].apply(lambda x: text_cleaning(x))\n",
    "content_corpus = \"\".join(df['내용'].to_list())\n",
    "\n",
    "nouns_tagger = Okt()\n",
    "nouns = nouns_tagger.nouns(content_corpus)\n",
    "count = Counter(nouns)\n",
    "\n",
    "cleaned_counter = Counter({x: count[x] for x in count if len(x) > 1})\n",
    "cleaned_counter = Counter({x: cleaned_counter[x] for x in cleaned_counter if x not in stopwords})\n",
    "cleaned_counter['확진자'] = cleaned_counter.pop('진자')\n",
    "cleaned_counter.pop('수가')\n",
    "\n",
    "taglist = pytagcloud.make_tags(cleaned_counter.most_common(80), maxsize=70)\n",
    "\n",
    "pytagcloud.create_tag_image(taglist, 'image/wiki_wordcloud_2020_코로나_관련단어_수정.jpg', size=(900, 600), fontname='NanumBarunGothicBold', rectangular=False)\n",
    "Image(filename='image/wiki_wordcloud_2020_코로나_관련단어_수정.jpg')"
   ]
  }
 ],
 "metadata": {
  "kernelspec": {
   "display_name": "Python 3 (ipykernel)",
   "language": "python",
   "name": "python3"
  },
  "language_info": {
   "codemirror_mode": {
    "name": "ipython",
    "version": 3
   },
   "file_extension": ".py",
   "mimetype": "text/x-python",
   "name": "python",
   "nbconvert_exporter": "python",
   "pygments_lexer": "ipython3",
   "version": "3.11.5"
  }
 },
 "nbformat": 4,
 "nbformat_minor": 5
}
